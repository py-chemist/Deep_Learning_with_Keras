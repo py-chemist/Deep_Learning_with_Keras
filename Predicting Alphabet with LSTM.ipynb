{
 "cells": [
  {
   "cell_type": "markdown",
   "metadata": {},
   "source": [
    "#### Inspired by https://machinelearningmastery.com"
   ]
  },
  {
   "cell_type": "code",
   "execution_count": null,
   "metadata": {
    "collapsed": true
   },
   "outputs": [],
   "source": [
    "import numpy as np\n",
    "import string\n",
    "import time\n",
    "from keras.models import Sequential\n",
    "from keras.layers import Dense\n",
    "from keras.layers import LSTM\n",
    "from keras.utils import np_utils\n",
    "from keras.preprocessing.sequence import pad_sequences"
   ]
  },
  {
   "cell_type": "code",
   "execution_count": 81,
   "metadata": {},
   "outputs": [],
   "source": [
    "alphabet = string.ascii_uppercase"
   ]
  },
  {
   "cell_type": "code",
   "execution_count": 82,
   "metadata": {},
   "outputs": [
    {
     "data": {
      "text/plain": [
       "'ABCDEFGHIJKLMNOPQRSTUVWXYZ'"
      ]
     },
     "execution_count": 82,
     "metadata": {},
     "output_type": "execute_result"
    }
   ],
   "source": [
    "alphabet"
   ]
  },
  {
   "cell_type": "code",
   "execution_count": 83,
   "metadata": {
    "collapsed": true
   },
   "outputs": [],
   "source": [
    "map_to_int = {c:num for num, c in enumerate(alphabet)}"
   ]
  },
  {
   "cell_type": "code",
   "execution_count": 84,
   "metadata": {},
   "outputs": [],
   "source": [
    "map_to_char = {num:c for num, c in enumerate(alphabet)}"
   ]
  },
  {
   "cell_type": "code",
   "execution_count": 85,
   "metadata": {},
   "outputs": [],
   "source": [
    "# generating input data: a sequnce of characters of diffrerent lenths (max_lenth = 5)\n",
    "\n",
    "max_lenth = 5\n",
    "samples = 1000\n",
    "batch_size = 1\n",
    "\n",
    "X, y = [], []\n",
    "\n",
    "for _ in range(samples):\n",
    "    start = np.random.randint(len(alphabet) - 2)\n",
    "    # not to exceed num of characters\n",
    "    end = np.random.randint(start, min(start + max_lenth, len(alphabet) -1))\n",
    "    seq_in = alphabet[start: end + 1]\n",
    "    seq_out = alphabet[end + 1]\n",
    "    X.append([map_to_int[i] for i in seq_in])\n",
    "    y.append([map_to_int[i] for i in seq_out])"
   ]
  },
  {
   "cell_type": "code",
   "execution_count": 86,
   "metadata": {},
   "outputs": [],
   "source": [
    "X = pad_sequences(X, maxlen=max_lenth, dtype='float32')\n",
    "# normalization\n",
    "X = X/len(alphabet)\n",
    "# reshaping [samples, time steps, features]\n",
    "X = X.reshape(X.shape[0], max_lenth, 1)\n",
    "y = np_utils.to_categorical(y)"
   ]
  },
  {
   "cell_type": "code",
   "execution_count": 98,
   "metadata": {},
   "outputs": [],
   "source": [
    "def build_model():\n",
    "    model = Sequential()\n",
    "    model.add(LSTM(32, input_shape=(X.shape[1], 1)))\n",
    "    model.add(Dense(y.shape[1], activation='softmax'))\n",
    "    model.compile(loss='categorical_crossentropy', optimizer='adam', metrics=['accuracy'])\n",
    "    return model              "
   ]
  },
  {
   "cell_type": "code",
   "execution_count": 99,
   "metadata": {},
   "outputs": [],
   "source": [
    "model = build_model()"
   ]
  },
  {
   "cell_type": "markdown",
   "metadata": {},
   "source": [
    "#### Training was done using CPU (4 cores)"
   ]
  },
  {
   "cell_type": "code",
   "execution_count": 100,
   "metadata": {},
   "outputs": [
    {
     "name": "stdout",
     "output_type": "stream",
     "text": [
      "Model Accuracy: 100.00%\n",
      "It took: 167.41289522250494 minutes\n"
     ]
    }
   ],
   "source": [
    "start = time.time()\n",
    "model.fit(X, y, epochs=800, batch_size=batch_size, verbose=0)\n",
    "scores = model.evaluate(X, y, verbose=0)\n",
    "print(\"Model Accuracy: %.2f%%\" % (scores[1]*100))\n",
    "print(\"It took: {} minutes\".format((time.time() - start)/60 ))"
   ]
  },
  {
   "cell_type": "code",
   "execution_count": 129,
   "metadata": {},
   "outputs": [
    {
     "name": "stdout",
     "output_type": "stream",
     "text": [
      "After B comes C\n",
      "After BCD comes E\n",
      "After STU comes V\n",
      "After R comes S\n",
      "After DEFGH comes I\n"
     ]
    }
   ],
   "source": [
    "for i in ['B', \"BCD\", 'STU', 'R', 'DEFGH']:\n",
    "    s = [map_to_int[s] for s in i]\n",
    "    x = pad_sequences([s], maxlen=max_lenth, dtype='float32')\n",
    "    x = x.reshape(1, max_lenth, 1)\n",
    "    x = x / float(len(alphabet))\n",
    "    prediction = model.predict(x, verbose=0)\n",
    "    index = np.argmax(prediction)\n",
    "    result = map_to_char[index]\n",
    "    print(\"After {} comes {}\".format(i, result))"
   ]
  }
 ],
 "metadata": {
  "kernelspec": {
   "display_name": "Python 3",
   "language": "python",
   "name": "python3"
  },
  "language_info": {
   "codemirror_mode": {
    "name": "ipython",
    "version": 3
   },
   "file_extension": ".py",
   "mimetype": "text/x-python",
   "name": "python",
   "nbconvert_exporter": "python",
   "pygments_lexer": "ipython3",
   "version": "3.6.1"
  }
 },
 "nbformat": 4,
 "nbformat_minor": 2
}
